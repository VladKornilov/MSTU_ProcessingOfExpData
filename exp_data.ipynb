{
 "cells": [
  {
   "cell_type": "markdown",
   "source": [
    "Функция генерации определенного количества СВ\n",
    "Выборки: 10, 100, 1000, 10000, 100000\n",
    "\n",
    "Случайные величины:\n",
    "1) Биномиальное распределение\n",
    "2) Распределение Бернулли\n",
    "3) Геометрическое распределение\n",
    "4) Распределение Пуассона\n",
    "5) Экспоненциальное распределение\n",
    "6) Равномерное распределение\n",
    "7) Нормальное распределение\n",
    "8) Распределение хи-квадрат\n",
    "9) Распределение Стьюдента\n",
    "10) Распределение Фишера\n",
    "11) Распределение Вейбулла \n",
    "\n",
    "Для выборок:\n",
    "1) посчитать оценки (мат ожидание, СКО в 2 видах - смещенное, несмещенное, медиана)\n",
    "2) добавить шум в данные (до 20% мощности сигнала). Попробовать вписать данные в функцию, посчитать корреляцию и ковариацию для исходного и зашумленного ряда\n",
    "    1) шум распределен по этому же закону\n",
    "    2) по некоторому другому"
   ],
   "metadata": {
    "id": "DAmGItcsJTBn"
   }
  },
  {
   "cell_type": "code",
   "execution_count": 26,
   "outputs": [],
   "source": [
    "import scipy.stats as sps\n",
    "import scipy.ndimage as snd\n",
    "import matplotlib.pyplot as plt\n",
    "import numpy as np\n",
    "%matplotlib inline"
   ],
   "metadata": {
    "collapsed": false,
    "pycharm": {
     "name": "#%%\n"
    }
   }
  },
  {
   "cell_type": "code",
   "execution_count": 27,
   "outputs": [
    {
     "data": {
      "text/plain": "<Figure size 1800x720 with 2 Axes>",
      "image/png": "[encoded data removed]"
     },
     "metadata": {
      "needs_background": "light"
     },
     "output_type": "display_data"
    }
   ],
   "source": [
    "fig = plt.figure(figsize=(25,10))\n",
    "\n",
    "ax1 = plt.subplot(1,2,1)\n",
    "ax2 = plt.subplot(1,2,2)\n",
    "\n",
    "yMax = 1\n",
    "xMax = 10\n",
    "\n",
    "\n",
    "ax1.set(xlim = (0, xMax), ylim = (0, yMax), title = \"Биномиальное распределение\")\n",
    "\n",
    "\n",
    "#line1, = ax1.plot([], [], 'r', lw=2)     # ax.plot returns a list of 2D line objects\n",
    "#line2, = ax2.plot([], [], 'g', lw=2)\n",
    "means = []\n",
    "#line3, = ax3.plot([], [], 'b', lw=2)\n",
    "\n",
    "# список размеров выборки\n",
    "data_size = [10, 20, 40, 100, 1000, 10000, 100000]"
   ],
   "metadata": {
    "pycharm": {
     "name": "#%%\n"
    },
    "colab": {
     "base_uri": "https://localhost:8080/",
     "height": 607
    },
    "id": "7GRF1RbTJTBs",
    "outputId": "7b93f399-ac8d-4e26-ff39-a0f7ce95892c"
   }
  },
  {
   "cell_type": "code",
   "execution_count": 28,
   "source": [
    "# n - кол-во испытаний\n",
    "# p - вероятность успеха\n",
    "# size - размер выборки\n",
    "def BinomLaw(n, p, size):\n",
    "    binom_rvs = sps.binom.rvs(n, p, size=size)\n",
    "    means.append(binom_rvs.mean())\n",
    "\n",
    "    #x = list(range(size))\n",
    "    #mult = xMax / size\n",
    "    #x = [elem * mult for elem in x]\n",
    "    #y = list(binom_rvs)\n",
    "\n",
    "    return binom_rvs"
   ],
   "outputs": [],
   "metadata": {
    "id": "C3idVUKMJTBv"
   }
  },
  {
   "cell_type": "code",
   "execution_count": 31,
   "outputs": [],
   "source": [
    "# animation function. This is called sequentially\n",
    "def drawframe(n):\n",
    "\n",
    "    ax1.clear()\n",
    "    ax1.set_xticks(np.arange(0, xMax, 1.0))\n",
    "    ax1.set(xlim = (0, xMax), ylim = (0, yMax), title = \"Выборка: \" + str(data_size[n]))\n",
    "    print('#####################')\n",
    "    print(\"FRAME = \", n)\n",
    "    rvs = BinomLaw(10, 0.5, data_size[n])\n",
    "    \n",
    "    ax1.hist(rvs, bins = 10, range=(0, xMax), rwidth=0.8, density=True)\n",
    "\n",
    "    ax2.clear()\n",
    "    ax2.set(xlim = (0, len(data_size)))\n",
    "    ax2.set(ylim = (min(means) - 0.25, max(means) + 0.25))\n",
    "    ax2.set_xticklabels(list(map(str, data_size)))\n",
    "    ax2.hlines(y=sps.binom(10, 0.5).mean(), xmin=0, xmax=len(data_size), lw=1, colors='red')\n",
    "    ax2.plot(means)\n",
    "\n",
    "\n",
    "    #return line2,"
   ],
   "metadata": {
    "pycharm": {
     "name": "#%%\n"
    },
    "id": "CjvTlYn9JTBy"
   }
  },
  {
   "cell_type": "code",
   "execution_count": 33,
   "outputs": [
    {
     "name": "stdout",
     "output_type": "stream",
     "text": [
      "#####################\n",
      "FRAME =  0\n",
      "#####################\n",
      "FRAME =  0\n"
     ]
    },
    {
     "name": "stderr",
     "output_type": "stream",
     "text": [
      "C:\\Users\\Bloodik\\AppData\\Local\\Temp\\ipykernel_14600\\999609408.py:16: UserWarning: FixedFormatter should only be used together with FixedLocator\n",
      "  ax2.set_xticklabels(list(map(str, data_size)))\n"
     ]
    },
    {
     "name": "stdout",
     "output_type": "stream",
     "text": [
      "#####################\n",
      "FRAME =  1\n",
      "#####################\n",
      "FRAME =  2\n",
      "#####################\n",
      "FRAME =  3\n",
      "#####################\n",
      "FRAME =  4\n",
      "#####################\n",
      "FRAME =  5\n",
      "#####################\n",
      "FRAME =  6\n"
     ]
    }
   ],
   "source": [
    "\n",
    "from matplotlib import animation\n",
    "from matplotlib import rc\n",
    "\n",
    "means = []\n",
    "anim = animation.FuncAnimation(fig, drawframe, frames = len(data_size), interval = 1000, blit=False)\n",
    "#rc('animation', html='jshtml')\n",
    "#plt.show()\n",
    "anim.save('gif.gif', writer='imagemagick')"
   ],
   "metadata": {
    "pycharm": {
     "name": "#%%\n"
    },
    "colab": {
     "base_uri": "https://localhost:8080/"
    },
    "id": "aNeTQyk1JTBz",
    "outputId": "3f834ac2-825d-4b92-d49e-dc1438efb8e2"
   }
  },
  {
   "cell_type": "code",
   "execution_count": null,
   "outputs": [],
   "source": [],
   "metadata": {
    "collapsed": false,
    "pycharm": {
     "name": "#%%\n"
    }
   }
  }
 ],
 "metadata": {
  "interpreter": {
   "hash": "e80646569bd54f86fe48343ac154290a039be7f6de5a78a4104fb747a8f9dae3"
  },
  "kernelspec": {
   "name": "python3",
   "display_name": "Python 3.8.6 64-bit"
  },
  "language_info": {
   "codemirror_mode": {
    "name": "ipython",
    "version": 3
   },
   "file_extension": ".py",
   "mimetype": "text/x-python",
   "name": "python",
   "nbconvert_exporter": "python",
   "pygments_lexer": "ipython3",
   "version": "3.8.6"
  },
  "orig_nbformat": 4,
  "colab": {
   "name": "exp_data.ipynb",
   "provenance": [],
   "collapsed_sections": []
  }
 },
 "nbformat": 4,
 "nbformat_minor": 0
}